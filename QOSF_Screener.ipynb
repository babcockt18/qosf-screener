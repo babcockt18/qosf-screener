{
  "nbformat": 4,
  "nbformat_minor": 0,
  "metadata": {
    "colab": {
      "provenance": [],
      "gpuType": "T4",
      "authorship_tag": "ABX9TyNnFCPvrd8fp+NzcMKBzRsX",
      "include_colab_link": true
    },
    "kernelspec": {
      "name": "python3",
      "display_name": "Python 3"
    },
    "language_info": {
      "name": "python"
    },
    "accelerator": "GPU"
  },
  "cells": [
    {
      "cell_type": "markdown",
      "metadata": {
        "id": "view-in-github",
        "colab_type": "text"
      },
      "source": [
        "<a href=\"https://colab.research.google.com/github/babcockt18/qosf-screener/blob/main/QOSF_Screener.ipynb\" target=\"_parent\"><img src=\"https://colab.research.google.com/assets/colab-badge.svg\" alt=\"Open In Colab\"/></a>"
      ]
    },
    {
      "cell_type": "markdown",
      "source": [
        "#Task 1: Less Than K\n",
        "\n",
        "##Problem Statement\n",
        "\n",
        "Given a positive integer “k” and a list of integer numbers, look for the numbers within the list, that are less than k.\n",
        "\n"
      ],
      "metadata": {
        "id": "WYWC2tjU5SNU"
      }
    },
    {
      "cell_type": "markdown",
      "source": [
        "## Install Libraries and Validate Compute Environment\n",
        "\n",
        "The below cell confirms nvidia compatability of GPU, then installs and configures cuda statevec v12, cuQuantum SDK, and PennyLane's integration with cuQuantum"
      ],
      "metadata": {
        "id": "fPw0_7A85wfD"
      }
    },
    {
      "cell_type": "code",
      "source": [
        "!nvidia-smi\n",
        "!pip -qqq install wheel custatevec-cu12\n",
        "!export CUQUANTUM_SDK=$(python -c \"import site; print( f'{site.getsitepackages()[0]}/cuquantum/lib')\")\n",
        "!pip install -qqq pennylane-lightning[gpu]"
      ],
      "metadata": {
        "colab": {
          "base_uri": "https://localhost:8080/"
        },
        "id": "JJios49iWmxP",
        "outputId": "6d3974de-c02a-4443-896a-f9caa1788dbc"
      },
      "execution_count": null,
      "outputs": [
        {
          "output_type": "stream",
          "name": "stdout",
          "text": [
            "Tue Mar 26 02:35:30 2024       \n",
            "+---------------------------------------------------------------------------------------+\n",
            "| NVIDIA-SMI 535.104.05             Driver Version: 535.104.05   CUDA Version: 12.2     |\n",
            "|-----------------------------------------+----------------------+----------------------+\n",
            "| GPU  Name                 Persistence-M | Bus-Id        Disp.A | Volatile Uncorr. ECC |\n",
            "| Fan  Temp   Perf          Pwr:Usage/Cap |         Memory-Usage | GPU-Util  Compute M. |\n",
            "|                                         |                      |               MIG M. |\n",
            "|=========================================+======================+======================|\n",
            "|   0  Tesla T4                       Off | 00000000:00:04.0 Off |                    0 |\n",
            "| N/A   37C    P8               9W /  70W |      0MiB / 15360MiB |      0%      Default |\n",
            "|                                         |                      |                  N/A |\n",
            "+-----------------------------------------+----------------------+----------------------+\n",
            "                                                                                         \n",
            "+---------------------------------------------------------------------------------------+\n",
            "| Processes:                                                                            |\n",
            "|  GPU   GI   CI        PID   Type   Process name                            GPU Memory |\n",
            "|        ID   ID                                                             Usage      |\n",
            "|=======================================================================================|\n",
            "|  No running processes found                                                           |\n",
            "+---------------------------------------------------------------------------------------+\n",
            "\u001b[2K     \u001b[90m━━━━━━━━━━━━━━━━━━━━━━━━━━━━━━━━━━━━━━━━\u001b[0m \u001b[32m38.6/38.6 MB\u001b[0m \u001b[31m31.0 MB/s\u001b[0m eta \u001b[36m0:00:00\u001b[0m\n",
            "\u001b[2K     \u001b[90m━━━━━━━━━━━━━━━━━━━━━━━━━━━━━━━━━━━━━━━━\u001b[0m \u001b[32m18.5/18.5 MB\u001b[0m \u001b[31m25.8 MB/s\u001b[0m eta \u001b[36m0:00:00\u001b[0m\n",
            "\u001b[2K     \u001b[90m━━━━━━━━━━━━━━━━━━━━━━━━━━━━━━━━━━━━━━━━\u001b[0m \u001b[32m1.6/1.6 MB\u001b[0m \u001b[31m27.2 MB/s\u001b[0m eta \u001b[36m0:00:00\u001b[0m\n",
            "\u001b[2K     \u001b[90m━━━━━━━━━━━━━━━━━━━━━━━━━━━━━━━━━━━━━━━━\u001b[0m \u001b[32m6.9/6.9 MB\u001b[0m \u001b[31m39.6 MB/s\u001b[0m eta \u001b[36m0:00:00\u001b[0m\n",
            "\u001b[2K     \u001b[90m━━━━━━━━━━━━━━━━━━━━━━━━━━━━━━━━━━━━━━━━\u001b[0m \u001b[32m2.1/2.1 MB\u001b[0m \u001b[31m49.8 MB/s\u001b[0m eta \u001b[36m0:00:00\u001b[0m\n",
            "\u001b[2K     \u001b[90m━━━━━━━━━━━━━━━━━━━━━━━━━━━━━━━━━━━━━━━━\u001b[0m \u001b[32m49.8/49.8 kB\u001b[0m \u001b[31m6.6 MB/s\u001b[0m eta \u001b[36m0:00:00\u001b[0m\n",
            "\u001b[?25h"
          ]
        }
      ]
    },
    {
      "cell_type": "markdown",
      "source": [
        "## Import Libraries and Validate Proper Import and Installation.\n",
        "\n",
        "Install PennyLane and PennyLane's version of numpy, then validate that the import has correctly imported the PennyLane Lightning GPU integraton."
      ],
      "metadata": {
        "id": "a0W6JfOQ6eU3"
      }
    },
    {
      "cell_type": "code",
      "source": [
        "import pennylane as qml\n",
        "from pennylane import numpy as np"
      ],
      "metadata": {
        "id": "yrKcWiywtlaN"
      },
      "execution_count": null,
      "outputs": []
    },
    {
      "cell_type": "code",
      "source": [
        "qml.about()"
      ],
      "metadata": {
        "colab": {
          "base_uri": "https://localhost:8080/"
        },
        "id": "ZdFtjjS7XWIr",
        "outputId": "a64d0798-f62c-4217-c6e1-a816a935aaf4"
      },
      "execution_count": null,
      "outputs": [
        {
          "output_type": "stream",
          "name": "stdout",
          "text": [
            "Name: PennyLane\n",
            "Version: 0.35.1\n",
            "Summary: PennyLane is a cross-platform Python library for quantum computing, quantum machine learning, and quantum chemistry. Train a quantum computer the same way as a neural network.\n",
            "Home-page: https://github.com/PennyLaneAI/pennylane\n",
            "Author: \n",
            "Author-email: \n",
            "License: Apache License 2.0\n",
            "Location: /usr/local/lib/python3.10/dist-packages\n",
            "Requires: appdirs, autograd, autoray, cachetools, networkx, numpy, pennylane-lightning, requests, rustworkx, scipy, semantic-version, toml, typing-extensions\n",
            "Required-by: PennyLane_Lightning, PennyLane_Lightning_GPU\n",
            "\n",
            "Platform info:           Linux-6.1.58+-x86_64-with-glibc2.35\n",
            "Python version:          3.10.12\n",
            "Numpy version:           1.25.2\n",
            "Scipy version:           1.11.4\n",
            "Installed devices:\n",
            "- lightning.gpu (PennyLane_Lightning_GPU-0.35.1)\n",
            "- lightning.qubit (PennyLane_Lightning-0.35.1)\n",
            "- default.clifford (PennyLane-0.35.1)\n",
            "- default.gaussian (PennyLane-0.35.1)\n",
            "- default.mixed (PennyLane-0.35.1)\n",
            "- default.qubit (PennyLane-0.35.1)\n",
            "- default.qubit.autograd (PennyLane-0.35.1)\n",
            "- default.qubit.jax (PennyLane-0.35.1)\n",
            "- default.qubit.legacy (PennyLane-0.35.1)\n",
            "- default.qubit.tf (PennyLane-0.35.1)\n",
            "- default.qubit.torch (PennyLane-0.35.1)\n",
            "- default.qutrit (PennyLane-0.35.1)\n",
            "- null.qubit (PennyLane-0.35.1)\n"
          ]
        }
      ]
    },
    {
      "cell_type": "markdown",
      "source": [
        "\n",
        "## Define the Custom Oracle\n",
        "\n",
        "We decide to leverage Grover's Algorithm to solve task 1. Based on the problem statement, we define the oracle function that encodes the problem of finding numbers less than k in list_n. It converts each number to its binary representation and applies X gates to qubits corresponding to 1's in the binary representation. Then, it applies a multi-controlled X gate to mark the states that satisfy the condition (binary_num < k)."
      ],
      "metadata": {
        "id": "4gEBVlJL6_wJ"
      }
    },
    {
      "cell_type": "code",
      "source": [
        "def oracle(k, list_n):\n",
        "    \"\"\"\n",
        "    Oracle function that encodes the problem of finding numbers less than k in list_n.\n",
        "\n",
        "    Args:\n",
        "        k (int): The target number to compare against.\n",
        "        list_n (list): The list of numbers to search for numbers less than k.\n",
        "\n",
        "    Returns:\n",
        "        function: The oracle function that marks the states satisfying the condition.\n",
        "    \"\"\"\n",
        "    def _oracle(wires):\n",
        "        # Convert the numbers to binary representation\n",
        "        binary_numbers = [np.binary_repr(num, width=len(wires)) for num in list_n]\n",
        "\n",
        "        # Iterate over each number in the list\n",
        "        for binary_num in binary_numbers:\n",
        "            # Apply X gates to qubits corresponding to 1's in the binary representation\n",
        "            for i, bit in enumerate(binary_num):\n",
        "                if bit == '1':\n",
        "                    qml.PauliX(wires=wires[i])\n",
        "\n",
        "            # Apply a multi-controlled X gate to mark the states that satisfy the condition\n",
        "            if int(binary_num, 2) < k:\n",
        "                qml.MultiControlledX(wires=wires[:-1])\n",
        "\n",
        "            # Apply X gates again to revert the qubits to their original state\n",
        "            for i, bit in enumerate(binary_num):\n",
        "                if bit == '1':\n",
        "                    qml.PauliX(wires=wires[i])\n",
        "\n",
        "    return _oracle"
      ],
      "metadata": {
        "id": "Nw24SiBttNKv"
      },
      "execution_count": null,
      "outputs": []
    },
    {
      "cell_type": "markdown",
      "source": [
        "## Implement Grover's Search Algorithm\n",
        "\n",
        "We define the less_than_k function that implements Grover's search algorithm. It applies Hadamard gates to all qubits, applies the oracle, and then we apply PennyLane's diffusion operator, [qml.templates.GroverOperator](https://docs.pennylane.ai/en/stable/code/api/pennylane.GroverOperator.html).\n",
        "\n",
        "*Note: the function does not currently handle duplicate values within the list of numbers to search through. This functionality is forthcoming.*"
      ],
      "metadata": {
        "id": "cNtxvjQA7r16"
      }
    },
    {
      "cell_type": "code",
      "source": [
        "def less_than_k(k, list_n):\n",
        "    \"\"\"\n",
        "    Find numbers less than k in the given list using Grover's search algorithm.\n",
        "\n",
        "    Args:\n",
        "        k (int): The target number to compare against.\n",
        "        list_n (list): The list of numbers to search for numbers less than k.\n",
        "\n",
        "    Returns:\n",
        "        tuple: A tuple containing two elements:\n",
        "            - list: The sorted list of numbers less than k found in list_n.\n",
        "            - function: The quantum circuit representation of Grover's search algorithm.\n",
        "    \"\"\"\n",
        "    # Determine the number of qubits required\n",
        "    num_qubits = len(bin(max(list_n))[2:]) + 1\n",
        "\n",
        "    # Create a quantum device\n",
        "    dev = qml.device('lightning.gpu', wires=num_qubits, shots=1000)\n",
        "\n",
        "    # Define the quantum circuit for Grover's search\n",
        "    @qml.qnode(dev, interface='auto')\n",
        "    def grover_circuit(k, list_n):\n",
        "        # Apply Hadamard gates to all qubits\n",
        "        for i in range(num_qubits):\n",
        "            qml.Hadamard(wires=i)\n",
        "\n",
        "        # Apply the oracle\n",
        "        oracle_func = oracle(k, list_n)\n",
        "        oracle_func(wires=range(num_qubits))\n",
        "\n",
        "        # Apply the diffusion operator\n",
        "        qml.templates.GroverOperator(wires=range(num_qubits - 1))\n",
        "\n",
        "        return qml.sample(wires=range(num_qubits - 1))\n",
        "\n",
        "    # Run the Grover's search circuit\n",
        "    samples = grover_circuit(k, list_n)\n",
        "\n",
        "    # Interpret the measurement results\n",
        "    results = []\n",
        "    for sample in samples:\n",
        "        binary_string = ''.join(str(bit) for bit in sample)\n",
        "        number = int(binary_string, 2)\n",
        "        if number < len(list_n) and list_n[number] < k:\n",
        "            results.append(list_n[number])\n",
        "\n",
        "    return sorted(set(results)), qml.draw(grover_circuit)(k, list_n)"
      ],
      "metadata": {
        "id": "ZbHsFkdf7k1D"
      },
      "execution_count": null,
      "outputs": []
    },
    {
      "cell_type": "code",
      "source": [
        "# Example usage\n",
        "A = less_than_k(5, [-1, 4, 9, 11, 14, 1, 13, 6, 3])\n",
        "\n",
        "print('Circuit Architecture:\\n\\n' + A[1] + f'\\n\\n Answer:\\n\\n {A[0]}')"
      ],
      "metadata": {
        "colab": {
          "base_uri": "https://localhost:8080/"
        },
        "id": "eD4R-IgNK9WT",
        "outputId": "8fc5866d-5f3b-44bf-e1d0-9b8be94c1135"
      },
      "execution_count": null,
      "outputs": [
        {
          "output_type": "stream",
          "name": "stdout",
          "text": [
            "Circuit Architecture:\n",
            "\n",
            "0: ──H──X──X────╭●───────────────────╭●─────────────╭●────╭GroverOperator─┤ ╭Sample\n",
            "1: ──H──X──X────├●──X──X──X──X──X──X─├●──X──X───────├●────├GroverOperator─┤ ├Sample\n",
            "2: ──H──X──X──X─├●──X──X──X──────────├●──X──X──X──X─├●────├GroverOperator─┤ ├Sample\n",
            "3: ──H──X──X────╰X──X──X──X──X───────╰X──X──X──X────╰X──X─╰GroverOperator─┤ ╰Sample\n",
            "4: ──H──X──X──X──X──X──X──X──X──X──X──X──X────────────────────────────────┤        \n",
            "\n",
            " Answer:\n",
            "\n",
            " [-1, 1, 3, 4]\n"
          ]
        }
      ]
    },
    {
      "cell_type": "code",
      "source": [
        "# TODO: figure out how to handle duplicate values properly\n",
        "# TODO: Consider encoding scheme to handle a certain decimal place\n",
        "# TODO: Consider How to Optimize gates. There are a lot of X gates that ostensibly look like low-hanging fruit"
      ],
      "metadata": {
        "id": "mHFtuUVbyQHo"
      },
      "execution_count": null,
      "outputs": []
    }
  ]
}